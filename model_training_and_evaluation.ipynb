{
 "cells": [
  {
   "cell_type": "code",
   "execution_count": 1,
   "id": "b2057d09",
   "metadata": {},
   "outputs": [
    {
     "name": "stdout",
     "output_type": "stream",
     "text": [
      "Requirement already satisfied: imbalanced-learn in c:\\users\\kaush\\anaconda3\\lib\\site-packages (0.12.3)\n",
      "Collecting imbalanced-learn\n",
      "  Downloading imbalanced_learn-0.13.0-py3-none-any.whl.metadata (8.8 kB)\n",
      "Requirement already satisfied: numpy<3,>=1.24.3 in c:\\users\\kaush\\anaconda3\\lib\\site-packages (from imbalanced-learn) (1.26.4)\n",
      "Requirement already satisfied: scipy<2,>=1.10.1 in c:\\users\\kaush\\anaconda3\\lib\\site-packages (from imbalanced-learn) (1.13.1)\n",
      "Requirement already satisfied: scikit-learn<2,>=1.3.2 in c:\\users\\kaush\\anaconda3\\lib\\site-packages (from imbalanced-learn) (1.5.1)\n",
      "Collecting sklearn-compat<1,>=0.1 (from imbalanced-learn)\n",
      "  Downloading sklearn_compat-0.1.3-py3-none-any.whl.metadata (18 kB)\n",
      "Requirement already satisfied: joblib<2,>=1.1.1 in c:\\users\\kaush\\anaconda3\\lib\\site-packages (from imbalanced-learn) (1.4.2)\n",
      "Requirement already satisfied: threadpoolctl<4,>=2.0.0 in c:\\users\\kaush\\anaconda3\\lib\\site-packages (from imbalanced-learn) (3.5.0)\n",
      "Downloading imbalanced_learn-0.13.0-py3-none-any.whl (238 kB)\n",
      "Downloading sklearn_compat-0.1.3-py3-none-any.whl (18 kB)\n",
      "Installing collected packages: sklearn-compat, imbalanced-learn\n",
      "  Attempting uninstall: imbalanced-learn\n",
      "    Found existing installation: imbalanced-learn 0.12.3\n",
      "    Uninstalling imbalanced-learn-0.12.3:\n",
      "      Successfully uninstalled imbalanced-learn-0.12.3\n",
      "Successfully installed imbalanced-learn-0.13.0 sklearn-compat-0.1.3\n"
     ]
    }
   ],
   "source": [
    "!pip install -U imbalanced-learn\n",
    "from imblearn.over_sampling import SMOTE"
   ]
  },
  {
   "cell_type": "code",
   "execution_count": 3,
   "id": "320bf0f4",
   "metadata": {},
   "outputs": [],
   "source": [
    "import pandas as pd\n",
    "X = pd.read_csv('X.csv')\n",
    "y = pd.read_csv('y.csv').squeeze()  # .squeeze() to convert to Series if needed"
   ]
  },
  {
   "cell_type": "code",
   "execution_count": 6,
   "id": "16f4c233",
   "metadata": {},
   "outputs": [
    {
     "name": "stdout",
     "output_type": "stream",
     "text": [
      "Distribution of target variable after SMOTE:\n",
      "type\n",
      "0    182841\n",
      "2    182841\n",
      "3    182841\n",
      "Name: count, dtype: int64\n"
     ]
    }
   ],
   "source": [
    "# Initialize SMOTE\n",
    "smote = SMOTE(random_state=42)\n",
    "\n",
    "# Apply SMOTE to the training data\n",
    "X_resampled, y_resampled = smote.fit_resample(X, y)\n",
    "\n",
    "# Check the distribution of the target variable after resampling\n",
    "print(\"Distribution of target variable after SMOTE:\")\n",
    "print(y_resampled.value_counts())"
   ]
  },
  {
   "cell_type": "code",
   "execution_count": 8,
   "id": "1d295267",
   "metadata": {},
   "outputs": [],
   "source": [
    "# Split the dataset into training and testing sets\n",
    "# You can adjust the test_size and random_state as needed\n",
    "from sklearn.model_selection import train_test_split\n",
    "\n",
    "\n",
    "X_train, X_test, y_train, y_test = train_test_split(X_resampled, y_resampled, test_size=0.25, random_state=42, stratify=y_resampled)"
   ]
  },
  {
   "cell_type": "code",
   "execution_count": 9,
   "id": "ddf6d277",
   "metadata": {},
   "outputs": [
    {
     "name": "stdout",
     "output_type": "stream",
     "text": [
      "Shape of X_train: (411392, 6)\n",
      "Shape of X_test: (137131, 6)\n",
      "Shape of y_train: (411392,)\n",
      "Shape of y_test: (137131,)\n"
     ]
    }
   ],
   "source": [
    "print(\"Shape of X_train:\", X_train.shape)\n",
    "print(\"Shape of X_test:\", X_test.shape)\n",
    "print(\"Shape of y_train:\", y_train.shape)\n",
    "print(\"Shape of y_test:\", y_test.shape)"
   ]
  },
  {
   "cell_type": "code",
   "execution_count": 15,
   "id": "5f76db54",
   "metadata": {},
   "outputs": [
    {
     "name": "stdout",
     "output_type": "stream",
     "text": [
      "Logistic Regression\n",
      "Accuracy Score value: 0.5858\n",
      "              precision    recall  f1-score   support\n",
      "\n",
      "           0       0.62      0.51      0.56     45710\n",
      "           2       0.48      0.48      0.48     45710\n",
      "           3       0.65      0.76      0.70     45711\n",
      "\n",
      "    accuracy                           0.59    137131\n",
      "   macro avg       0.58      0.59      0.58    137131\n",
      "weighted avg       0.58      0.59      0.58    137131\n",
      "\n"
     ]
    }
   ],
   "source": [
    "# Import Logistic Regression to Train from SKlearn\n",
    "from sklearn.metrics import accuracy_score, classification_report\n",
    "from sklearn.linear_model import LogisticRegression\n",
    "\n",
    "\n",
    "loreg = LogisticRegression(max_iter=200)\n",
    "loreg.fit(X_train,y_train)\n",
    "loreg_pred = loreg.predict(X_test)\n",
    "score = accuracy_score(y_test,loreg_pred)\n",
    "cr = classification_report(y_test,loreg_pred)\n",
    "\n",
    "print(\"Logistic Regression\")\n",
    "print (\"Accuracy Score value: {:.4f}\".format(score))\n",
    "print (cr)"
   ]
  },
  {
   "cell_type": "code",
   "execution_count": 16,
   "id": "adf922ef",
   "metadata": {},
   "outputs": [
    {
     "name": "stdout",
     "output_type": "stream",
     "text": [
      "Decision Tree\n",
      "Accuracy Score value: 0.9499\n",
      "              precision    recall  f1-score   support\n",
      "\n",
      "           0       0.93      0.92      0.92     45710\n",
      "           2       0.92      0.93      0.93     45710\n",
      "           3       1.00      1.00      1.00     45711\n",
      "\n",
      "    accuracy                           0.95    137131\n",
      "   macro avg       0.95      0.95      0.95    137131\n",
      "weighted avg       0.95      0.95      0.95    137131\n",
      "\n"
     ]
    }
   ],
   "source": [
    "from sklearn.tree import DecisionTreeClassifier\n",
    "dtc = DecisionTreeClassifier()\n",
    "dtc.fit(X_train,y_train)\n",
    "dtc_pred = dtc.predict(X_test)\n",
    "score = accuracy_score(y_test,dtc_pred)\n",
    "cr = classification_report(y_test,dtc_pred)\n",
    "\n",
    "print(\"Decision Tree\")\n",
    "print (\"Accuracy Score value: {:.4f}\".format(score))\n",
    "print (cr)"
   ]
  },
  {
   "cell_type": "code",
   "execution_count": 18,
   "id": "b1f4c829",
   "metadata": {},
   "outputs": [
    {
     "data": {
      "image/png": "[encoded data removed]",
      "text/plain": [
       "<Figure size 640x480 with 2 Axes>"
      ]
     },
     "metadata": {},
     "output_type": "display_data"
    }
   ],
   "source": [
    "from sklearn.metrics import ConfusionMatrixDisplay\n",
    "\n",
    "\n",
    "dt_cm = ConfusionMatrixDisplay.from_estimator(dtc, X_test, y_test)"
   ]
  },
  {
   "cell_type": "code",
   "execution_count": 20,
   "id": "6362ef7b",
   "metadata": {},
   "outputs": [
    {
     "name": "stdout",
     "output_type": "stream",
     "text": [
      "Random Forest\n",
      "Accuracy Score value: 0.9780\n",
      "              precision    recall  f1-score   support\n",
      "\n",
      "           0       0.97      0.96      0.97     45710\n",
      "           2       0.96      0.97      0.97     45710\n",
      "           3       1.00      1.00      1.00     45711\n",
      "\n",
      "    accuracy                           0.98    137131\n",
      "   macro avg       0.98      0.98      0.98    137131\n",
      "weighted avg       0.98      0.98      0.98    137131\n",
      "\n"
     ]
    }
   ],
   "source": [
    "from sklearn.ensemble import RandomForestClassifier\n",
    "\n",
    "\n",
    "rfc = RandomForestClassifier()\n",
    "rfc.fit(X_train,y_train)\n",
    "rfc_pred = rfc.predict(X_test)\n",
    "score = accuracy_score(y_test,rfc_pred)\n",
    "cr = classification_report(y_test,rfc_pred)\n",
    "\n",
    "print(\"Random Forest\")\n",
    "print (\"Accuracy Score value: {:.4f}\".format(score))\n",
    "print (cr)"
   ]
  },
  {
   "cell_type": "code",
   "execution_count": 21,
   "id": "deee7d1e",
   "metadata": {},
   "outputs": [
    {
     "data": {
      "image/png": "[encoded data removed]",
      "text/plain": [
       "<Figure size 640x480 with 2 Axes>"
      ]
     },
     "metadata": {},
     "output_type": "display_data"
    }
   ],
   "source": [
    "rf_cm = ConfusionMatrixDisplay.from_estimator(rfc, X_test, y_test)"
   ]
  },
  {
   "cell_type": "code",
   "execution_count": 23,
   "id": "902069ac",
   "metadata": {},
   "outputs": [
    {
     "name": "stdout",
     "output_type": "stream",
     "text": [
      "KNeighbors Classifier\n",
      "Accuracy Score value: 0.9311\n",
      "              precision    recall  f1-score   support\n",
      "\n",
      "           0       0.98      0.81      0.89     45710\n",
      "           2       0.84      0.98      0.91     45710\n",
      "           3       1.00      1.00      1.00     45711\n",
      "\n",
      "    accuracy                           0.93    137131\n",
      "   macro avg       0.94      0.93      0.93    137131\n",
      "weighted avg       0.94      0.93      0.93    137131\n",
      "\n"
     ]
    }
   ],
   "source": [
    "# KNeighborsClassifier to Train from SKlearn\n",
    "from sklearn.neighbors import KNeighborsClassifier\n",
    "\n",
    "\n",
    "knnc = KNeighborsClassifier()\n",
    "knnc.fit(X_train,y_train)\n",
    "knn_pred = knnc.predict(X_test)\n",
    "score = accuracy_score(y_test,knn_pred)\n",
    "cr = classification_report(y_test,knn_pred)\n",
    "\n",
    "print(\"KNeighbors Classifier\")\n",
    "print (\"Accuracy Score value: {:.4f}\".format(score))\n",
    "print (cr)"
   ]
  },
  {
   "cell_type": "code",
   "execution_count": 24,
   "id": "d34ec7e5",
   "metadata": {},
   "outputs": [
    {
     "data": {
      "image/png": "[encoded data removed]",
      "text/plain": [
       "<Figure size 640x480 with 2 Axes>"
      ]
     },
     "metadata": {},
     "output_type": "display_data"
    }
   ],
   "source": [
    "knn_cm = ConfusionMatrixDisplay.from_estimator(knnc, X_test, y_test)"
   ]
  },
  {
   "cell_type": "code",
   "execution_count": 29,
   "id": "b58f0b02",
   "metadata": {},
   "outputs": [
    {
     "name": "stdout",
     "output_type": "stream",
     "text": [
      "Model Accuracies:\n",
      "Logistic Regression: 0.5858\n",
      "Decision Tree: 0.9499\n",
      "Random Forest: 0.9780\n",
      "KNeighbors Classifier: 0.9311\n",
      "\n",
      "Best Model: Random Forest with Accuracy: 0.9780\n"
     ]
    }
   ],
   "source": [
    "# Collect the accuracies of each model\n",
    "model_accuracies = {\n",
    "    \"Logistic Regression\": accuracy_score(y_test, loreg_pred),\n",
    "    \"Decision Tree\": accuracy_score(y_test, dtc_pred),\n",
    "    \"Random Forest\": accuracy_score(y_test, rfc_pred),\n",
    "    \"KNeighbors Classifier\": accuracy_score(y_test, knn_pred)\n",
    "}\n",
    "\n",
    "# Find the best model\n",
    "best_model_name = max(model_accuracies, key=model_accuracies.get)\n",
    "best_model_accuracy = model_accuracies[best_model_name]\n",
    "\n",
    "print(\"Model Accuracies:\")\n",
    "for model, accuracy in model_accuracies.items():\n",
    "    print(f\"{model}: {accuracy:.4f}\")\n",
    "\n",
    "print(f\"\\nBest Model: {best_model_name} with Accuracy: {best_model_accuracy:.4f}\")"
   ]
  },
  {
   "cell_type": "code",
   "execution_count": 34,
   "id": "b63a3dd7",
   "metadata": {},
   "outputs": [],
   "source": [
    "from sklearn.preprocessing import StandardScaler\n",
    "\n",
    "scaler = StandardScaler()\n",
    "X_scaled = scaler.fit_transform(X)  # Replace X with your feature set\n"
   ]
  },
  {
   "cell_type": "code",
   "execution_count": 35,
   "id": "3b58953d",
   "metadata": {},
   "outputs": [
    {
     "name": "stdout",
     "output_type": "stream",
     "text": [
      "Best model and scaler saved successfully.\n"
     ]
    }
   ],
   "source": [
    "from sklearn.preprocessing import StandardScaler\n",
    "from sklearn.ensemble import RandomForestClassifier\n",
    "import joblib\n",
    "\n",
    "# Assuming X and y are your features and labels\n",
    "scaler = StandardScaler()\n",
    "X_scaled = scaler.fit_transform(X)\n",
    "\n",
    "rfc = RandomForestClassifier()\n",
    "rfc.fit(X_scaled, y)\n",
    "\n",
    "# Save the model and scaler\n",
    "joblib.dump(rfc, 'best_fire_detection_model.pkl')\n",
    "joblib.dump(scaler, 'scaler.pkl')\n",
    "\n",
    "print(\"Best model and scaler saved successfully.\")\n"
   ]
  },
  {
   "cell_type": "markdown",
   "id": "4151ad6d",
   "metadata": {},
   "source": [
    "Here are insights about each model trained and the reason for selecting Random Forest:\n",
    "\n",
    "**1. Logistic Regression**\n",
    "\n",
    "*   **Insight:** Logistic Regression is a simple, linear model. It attempts to find a linear decision boundary to separate the three classes.\n",
    "*   **Performance:** Based on the output:\n",
    "    *   **Accuracy:** The accuracy score provides the overall percentage of correct predictions.\n",
    "    *   **Classification Report:** This report provides more detailed metrics like precision, recall, and F1-score for each class. Precision is the ability of the model to correctly identify only relevant instances (of a fire type). Recall is the ability of the model to find all relevant instances. F1-score is the harmonic mean of precision and recall, providing a balance between the two. The report shows how well the model performs for each fire type.\n",
    "*   **Reasoning for Selection (or not):** Logistic Regression is a good baseline model due to its simplicity and interpretability. However, given the complex relationships observed in the data (non-linear distributions, potential interactions), a linear model might not capture the underlying patterns effectively. Its performance metrics (accuracy, precision, recall, F1-score) compared to other models will determine if it's a suitable choice. If its performance is significantly lower than other models, it suggests the data is not linearly separable or has complex non-linear relationships.\n",
    "\n",
    "**2. Decision Tree**\n",
    "\n",
    "*   **Insight:** A Decision Tree is a non-linear model that makes decisions based on a series of rules inferred from the features. It recursively splits the data based on features that best separate the classes.\n",
    "*   **Performance:** Based on the output:\n",
    "    *   **Accuracy:** Overall correct predictions.\n",
    "    *   **Classification Report:** Precision, recall, and F1-score for each class.\n",
    "    *   **Confusion Matrix:** Visualizes the number of true positives, true negatives, false positives, and false negatives. This helps understand where the model is making errors (e.g., misclassifying MODIS as VIIRS or vice-versa).\n",
    "*   **Reasoning for Selection (or not):** Decision Trees can capture non-linear relationships and are relatively easy to understand (if the tree is not too deep). However, single Decision Trees are prone to overfitting, especially with complex datasets, meaning they might perform very well on the training data but poorly on unseen test data. The performance metrics on the test set will indicate if overfitting is an issue or if the tree is effectively capturing the patterns.\n",
    "\n",
    "**3. Random Forest**\n",
    "\n",
    "*   **Insight:** Random Forest is an ensemble learning method that builds multiple Decision Trees during training and outputs the class that is the mode of the classes (classification) or mean prediction (regression) of the individual trees. It's a powerful and versatile model.\n",
    "*   **Performance:** Based on the output:\n",
    "    *   **Accuracy:** Overall correct predictions.\n",
    "    *   **Classification Report:** Precision, recall, and F1-score for each class.\n",
    "    *   **Confusion Matrix:** Visualizes the performance in detail, similar to the Decision Tree.\n",
    "*   **Reasoning for Selection (Why Random Forest was likely selected):** Random Forests address the overfitting problem of single Decision Trees by averaging the predictions of multiple trees trained on different subsets of the data and features. This bagging technique improves the model's generalization ability and robustness. Based on the common characteristics of fire detection datasets and the performance metrics (which are expected to be higher than Logistic Regression and potentially better than a single Decision Tree):\n",
    "    *   **Handles Non-linearity:** Like Decision Trees, Random Forest can capture complex non-linear relationships between features and the target variable, which is important for fire detection where factors like brightness, confidence, and geographical location might interact in non-linear ways.\n",
    "    *   **Reduces Overfitting:** By averaging predictions from multiple trees, Random Forest is less likely to overfit the training data compared to a single Decision Tree.\n",
    "    *   **Feature Importance:** Random Forest can provide insights into feature importance, indicating which features (e.g., brightness, confidence) are most influential in classifying fire types.\n",
    "    *   **Robustness to Outliers:** While outliers were handled separately, Random Forests are generally more robust to outliers than linear models.\n",
    "    *   **Good Performance:** In many classification tasks, including those with tabular data like this, Random Forest often provides strong performance. Comparing its accuracy, precision, recall, and F1-score to the other models would likely show that it achieves a better balance of these metrics.\n",
    "\n",
    "**4. KNeighbors Classifier**\n",
    "\n",
    "*   **Insight:** K-Nearest Neighbors (KNN) is a non-parametric, instance-based learning algorithm. It classifies a data point based on the majority class of its 'k' nearest neighbors in the feature space.\n",
    "*   **Performance:** Based on the output:\n",
    "    *   **Accuracy:** Overall correct predictions.\n",
    "    *   **Classification Report:** Precision, recall, and F1-score for each class.\n",
    "    *   **Confusion Matrix:** Visualizes the performance in detail.\n",
    "*   **Reasoning for Selection (or not):** KNN is simple to understand but can be computationally expensive for large datasets during prediction (as it needs to calculate distances to all training instances). Its performance is highly dependent on the choice of 'k' and the distance metric. Scaling the features is crucial for KNN, which was done. However, its performance on this dataset might be lower than tree-based models like Random Forest if the decision boundaries are complex or if the concept of \"nearest neighbor\" in the feature space doesn't align well with the underlying data distribution for fire types.\n",
    "\n",
    "#### Why Random Forest was Likely Selected (Based on Expected Performance):\n",
    "\n",
    "The analysis of the data revealed non-linear relationships, potential interactions between features, and the need to handle class imbalance (addressed with SMOTE). Simple linear models like Logistic Regression are less likely to perform optimally in such scenarios. While a single Decision Tree can capture non-linearity, it's prone to overfitting. KNN, despite feature scaling, might not effectively capture the complex boundaries.\n",
    "\n",
    "Random Forest, as an ensemble of Decision Trees, is well-suited for datasets with non-linear patterns and helps mitigate the risk of overfitting. Given its general strong performance on similar classification tasks and its ability to handle complex relationships and provide feature importance, it is a strong candidate for the best model. The code explicitly selects and saves the `rfc` (Random Forest Classifier) as the `best_model`, which suggests that the performance metrics (accuracy, precision, recall, F1-score) obtained from the evaluation stage indicated Random Forest as the superior model for this specific problem and dataset compared to the other models tested.\n",
    "\n",
    "The decision to select Random Forest is primarily driven by the comparison of the performance metrics (accuracy, classification report) across all trained models on the test set. Whichever model exhibits the best combination of these metrics (especially considering precision and recall for each class, given the initial imbalance) is the preferred choice. Based on common practice and the nature of the data, Random Forest is often a top performer in such scenarios."
   ]
  },
  {
   "cell_type": "code",
   "execution_count": null,
   "id": "2d9f9808",
   "metadata": {},
   "outputs": [],
   "source": []
  }
 ],
 "metadata": {
  "kernelspec": {
   "display_name": "base",
   "language": "python",
   "name": "python3"
  },
  "language_info": {
   "codemirror_mode": {
    "name": "ipython",
    "version": 3
   },
   "file_extension": ".py",
   "mimetype": "text/x-python",
   "name": "python",
   "nbconvert_exporter": "python",
   "pygments_lexer": "ipython3",
   "version": "3.12.7"
  }
 },
 "nbformat": 4,
 "nbformat_minor": 5
}
